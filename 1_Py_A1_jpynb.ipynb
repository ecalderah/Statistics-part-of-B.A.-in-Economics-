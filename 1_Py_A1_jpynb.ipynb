{
  "cells": [
    {
      "cell_type": "markdown",
      "metadata": {
        "id": "J9IbCVjeRRNP"
      },
      "source": [
        "# **Taller Python A1**\n",
        "**$ANEE_{UG}$**\n",
        "\n",
        "**Semestre:** AGO–DIC 2025\n",
        "\n",
        "**Tallerista:** Caldera Hernández Edgar Israel\n",
        "\n",
        "**Alumno:**  \n"
      ]
    },
    {
      "cell_type": "markdown",
      "source": [
        "## ⚠️ IMPORTANTE  \n",
        "Para asegurarte de aprenderlo:  \n",
        "- Escribe los códigos en tu propio archivo de Colab.  \n",
        "- Lee con paciencia.  \n",
        "- Tómalo como aprender otro idioma.  \n",
        "\n",
        "---\n",
        "\n",
        "## 💻 Plataforma  \n",
        "Para el taller estaremos utilizando la plataforma **Google Colab**, que permite ejecutar código de Python en un entorno que combina **código tradicional** con **texto enriquecido**, aprovechando algunas funciones de *LaTeX* en la nube de Google.  \n",
        "\n",
        "---\n",
        "\n",
        "## 🗂 Por razones pedagógicas llamaremos así la orgnización de info.  \n",
        "\n",
        "- **Títulos** → *Section* → `#`  \n",
        "- **Subtítulos** → *Subsection* → `##`  \n",
        "- **Temas** → *Subsubsection* → `###`+"
      ],
      "metadata": {
        "id": "Wz4EXdNYcKL1"
      }
    },
    {
      "cell_type": "markdown",
      "metadata": {
        "id": "PdVLbKQyRdmW"
      },
      "source": [
        "---\n",
        "## 📌 1 — Variables\n",
        "---\n",
        "\n",
        "Partimos del hecho de que **Python** funciona como intermediario entre la computadora y una persona común.  \n",
        "\n",
        "Mientras nosotros utilizamos un **lenguaje abstracto y complejo**, las máquinas solo entienden **0 y 1** (corriente y no corriente).  \n",
        "Por ello, se han desarrollado **lenguajes de programación** que permiten que la comunicación sea accesible.  \n",
        "\n",
        "**Python** se considera uno de los más fáciles de aprender porque su forma de escritura es muy parecida al inglés popular.  \n",
        "\n",
        "En él podemos ingresar diferentes tipos de **variables**.  \n",
        "En este taller A1 veremos:  \n",
        "\n",
        "- **Números** (enteros y decimales)  \n",
        "- **Palabras** (*strings*)  \n",
        "- **Variables vacías**  \n",
        "- **Valores booleanos**  \n"
      ]
    },
    {
      "cell_type": "code",
      "execution_count": 5,
      "metadata": {
        "id": "UVKCsQ8plSqH"
      },
      "outputs": [],
      "source": [
        "# Usamos \"=\" para guardar valores en variables de cualquier nombre, para hacerlo gráfico y se acostumbren a ver código lo harémos así.\n",
        "\n",
        "# Números:\n",
        "flotante = 3.234 #float\n",
        "entero = 45 #int\n",
        "\n",
        "# Palabras:\n",
        "cadena = \"Hola mundo\" #str\n",
        "\n",
        "# Verdadero/Falso:\n",
        "booleano = True #bool\n",
        "\n",
        "# Vacio:\n",
        "vacio = None #NoneType ES UN COMODIN\n",
        "\n",
        "# Extra:\n",
        "complejos = complex # Números complejos"
      ]
    },
    {
      "cell_type": "code",
      "execution_count": 6,
      "metadata": {
        "colab": {
          "base_uri": "https://localhost:8080/"
        },
        "id": "zZRlioIWNFkq",
        "outputId": "a61cee41-e28d-4e08-e6d8-722637e13733"
      },
      "outputs": [
        {
          "output_type": "execute_result",
          "data": {
            "text/plain": [
              "True"
            ]
          },
          "metadata": {},
          "execution_count": 6
        }
      ],
      "source": [
        "# Ejemplo booleanos\n",
        "1 == 1 # IGUALDAD"
      ]
    },
    {
      "cell_type": "code",
      "source": [
        "1 != 1 # DESIGUALDAD"
      ],
      "metadata": {
        "colab": {
          "base_uri": "https://localhost:8080/"
        },
        "id": "rVGB5Fvcevav",
        "outputId": "b7d6bd63-0430-4567-a4af-231bef0409af"
      },
      "execution_count": 7,
      "outputs": [
        {
          "output_type": "execute_result",
          "data": {
            "text/plain": [
              "False"
            ]
          },
          "metadata": {},
          "execution_count": 7
        }
      ]
    },
    {
      "cell_type": "code",
      "execution_count": 8,
      "metadata": {
        "colab": {
          "base_uri": "https://localhost:8080/"
        },
        "id": "ZJxvwWUIqnNv",
        "outputId": "2d48d7ff-d9a2-4776-9938-37b1377ad750"
      },
      "outputs": [
        {
          "output_type": "stream",
          "name": "stdout",
          "text": [
            "30\n",
            "-10\n",
            "0.5\n",
            "200\n",
            "100000000000000000000\n"
          ]
        }
      ],
      "source": [
        "# Operaciones básicas, para mostrarlos usamos nuestra primer función nativa de py print()\n",
        "\n",
        "a = 10\n",
        "b = 20\n",
        "\n",
        "print(a+b)\n",
        "\n",
        "print(a-b)\n",
        "\n",
        "print(a/b)\n",
        "\n",
        "print(a*b)\n",
        "\n",
        "print(a**b)"
      ]
    },
    {
      "cell_type": "code",
      "execution_count": 9,
      "metadata": {
        "colab": {
          "base_uri": "https://localhost:8080/"
        },
        "id": "SI6FeJc-lrmu",
        "outputId": "82cb2ae7-1345-4071-d81d-9c0254d023df"
      },
      "outputs": [
        {
          "output_type": "execute_result",
          "data": {
            "text/plain": [
              "2"
            ]
          },
          "metadata": {},
          "execution_count": 9
        }
      ],
      "source": [
        "# Podemos convertir los tipos de variables, por ejemplo convertir de entero un numero decimal, usando int()\n",
        "int(2.99)\n"
      ]
    },
    {
      "cell_type": "markdown",
      "source": [
        "---\n",
        "### Primeras funciones de LaTeX\n",
        "---\n",
        "\n",
        "Todo lo que escribamos entre los **símbolos de dinero** (`$ ... $`) se interpretará con una apariencia **matemática y académica**:  \n",
        "\n",
        "`$a_1$` → se verá como: $a_1$  \n",
        "\n",
        "Además, con la diagonal invertida `\\` activamos las funciones de **LaTeX**.  \n",
        "Con un poco de intuición (y confiando en nuestro inglés) podemos deducir muchas de las funciones nativas.  \n",
        "Algunos ejemplos:  \n",
        "\n",
        "- **Fracciones** → `\\frac{a}{b}` → $\\frac{a}{b}$  \n",
        "- **Sumatorias** → `\\sum` → $\\sum$  \n",
        "- **Subíndices** → `a_1` → $a_1$  \n",
        "- **Potencias** → `a^{2}` → $a^{2}$  \n"
      ],
      "metadata": {
        "id": "7i7AAoahfpvi"
      }
    },
    {
      "cell_type": "markdown",
      "metadata": {
        "id": "1xAvqKpB9h6s"
      },
      "source": [
        "---\n",
        "#### Primer Ejercicio\n",
        "---\n",
        "\n",
        "**Instrucción:**  \n",
        "Transcribe en el bloque de texto y en el bloque de código resuelve.  \n",
        "\n",
        "Necesito un programa que calcule:  \n",
        "\n",
        "$$c = \\left(a^{2} + b^{2}\\right)^{\\tfrac{1}{2}}$$\n",
        "\n",
        "Cuando a vale 10 y b vale 2."
      ]
    },
    {
      "cell_type": "code",
      "execution_count": 14,
      "metadata": {
        "colab": {
          "base_uri": "https://localhost:8080/"
        },
        "id": "BR9aIy8URn1Z",
        "outputId": "83fcf3e0-1b1f-4447-bb95-36eb1f9ac072"
      },
      "outputs": [
        {
          "output_type": "stream",
          "name": "stdout",
          "text": [
            "10.198039027185569\n"
          ]
        },
        {
          "output_type": "execute_result",
          "data": {
            "text/plain": [
              "10"
            ]
          },
          "metadata": {},
          "execution_count": 14
        }
      ],
      "source": [
        "# Solución\n",
        "a = 10\n",
        "b = 2\n",
        "\n",
        "c = (a**2 + b**2)**(1/2)\n",
        "\n",
        "print(c)\n",
        "\n",
        "int(c)"
      ]
    },
    {
      "cell_type": "code",
      "execution_count": 12,
      "metadata": {
        "colab": {
          "base_uri": "https://localhost:8080/"
        },
        "id": "G0WnB-Srsnat",
        "outputId": "6004022d-2b90-4698-cc1a-d83c269c69c8"
      },
      "outputs": [
        {
          "output_type": "stream",
          "name": "stdout",
          "text": [
            "1212121212121212121212121212\n"
          ]
        }
      ],
      "source": [
        "# Cómo funciona una string al hacerle operaciones\n",
        "\n",
        "str = '12'\n",
        "print(str*14)"
      ]
    },
    {
      "cell_type": "markdown",
      "source": [
        "---\n",
        "### Pedir información al usuario\n",
        "---\n",
        "\n",
        "Conoceremos la función **`input()`**, que ejecutará cualquier mensaje que pongas dentro entre comillas (`\"\"` o `''`) y mostrará una casilla para que el usuario responda.  \n",
        "\n",
        "Ejemplo:  \n",
        "\n"
      ],
      "metadata": {
        "id": "N21aw3e-g9YO"
      }
    },
    {
      "cell_type": "code",
      "execution_count": 11,
      "metadata": {
        "colab": {
          "base_uri": "https://localhost:8080/"
        },
        "id": "IE8I5oUrs8ST",
        "outputId": "aee00971-401a-45d8-959c-bdf75dac71b3"
      },
      "outputs": [
        {
          "output_type": "stream",
          "name": "stdout",
          "text": [
            "¿Cuál es tu nombre?Edgar\n",
            "Hola, Edgar\n"
          ]
        }
      ],
      "source": [
        "nombre = input(\"¿Cuál es tu nombre?\")\n",
        "print(\"Hola,\", nombre)"
      ]
    },
    {
      "cell_type": "markdown",
      "source": [
        "### Tres formas de combianar texto con variables."
      ],
      "metadata": {
        "id": "pzMjUGg3hZSk"
      }
    },
    {
      "cell_type": "code",
      "execution_count": 13,
      "metadata": {
        "colab": {
          "base_uri": "https://localhost:8080/"
        },
        "id": "2XT0W_JsSOid",
        "outputId": "4ada587b-8189-40fc-bb1d-50ec629ad35b"
      },
      "outputs": [
        {
          "output_type": "stream",
          "name": "stdout",
          "text": [
            "¿Cómo te llamas? Edgar\n",
            "Hola Edgar bienvenido a mi programa de python\n",
            "Hola Edgar bienvenido a mi programa de python\n",
            "Hola Edgar bienvenido a mi programa de python\n"
          ]
        }
      ],
      "source": [
        "name = input('¿Cómo te llamas? ')\n",
        "print(f'Hola {name} bienvenido a mi programa de python')\n",
        "print(\"Hola {} bienvenido a mi programa de python\".format(name))\n",
        "print(\"Hola\",name,\"bienvenido a mi programa de python\")"
      ]
    },
    {
      "cell_type": "markdown",
      "metadata": {
        "id": "4eCIjD2sdV0M"
      },
      "source": [
        "---\n",
        "## 📌 2 — Condicionales\n",
        "---\n",
        "\n",
        "El primer condicional que conoceremos será **`if`**, que significa *“si”*.  \n",
        "\n",
        "- **Si** algo se cumple → quiero que suceda esto.  \n",
        "- **Si no** se cumple → quiero que pase lo otro.  \n",
        "- **En cualquier otro caso** → haz esto.  \n"
      ]
    },
    {
      "cell_type": "code",
      "source": [
        "x = int(input(f\"Dí un numero, 1 o 2 \\n\"))\n",
        "\n",
        "if x == 1:\n",
        "    print(\"Te ganaste un coscorrón \")\n",
        "elif x == 2:\n",
        "    print(\"Te ganaste un jugo de naranja \")\n",
        "else:\n",
        "    print(\"Escribe sólo un 1 o un 2 \")"
      ],
      "metadata": {
        "colab": {
          "base_uri": "https://localhost:8080/"
        },
        "id": "uMpTYxbQ1QO8",
        "outputId": "6c8ca976-d9f1-4ad0-b50a-fb65e4b5f287"
      },
      "execution_count": 15,
      "outputs": [
        {
          "output_type": "stream",
          "name": "stdout",
          "text": [
            "Dí un numero, 1 o 2 \n",
            "1\n",
            "Te ganaste un coscorrón \n"
          ]
        }
      ]
    },
    {
      "cell_type": "markdown",
      "source": [
        "### Ejemplo. El cadenero."
      ],
      "metadata": {
        "id": "R--5l9Gs3R4A"
      }
    },
    {
      "cell_type": "code",
      "execution_count": 16,
      "metadata": {
        "id": "rMAOia43BTpj",
        "colab": {
          "base_uri": "https://localhost:8080/"
        },
        "outputId": "3b84f157-b95d-4715-e150-7f3ae3187a36"
      },
      "outputs": [
        {
          "output_type": "stream",
          "name": "stdout",
          "text": [
            "Bienvenido al bar de python \n",
            "Dime tu edad 18\n",
            "Puedes entrar\n"
          ]
        }
      ],
      "source": [
        "# Cadenero\n",
        "\n",
        "print(\"Bienvenido al bar DCEA \")\n",
        "\n",
        "edad = int(input(\"Dime tu edad \"))\n",
        "\n",
        "\n",
        "if edad >= 18:\n",
        "  print(\"Puedes entrar\")\n",
        "else:\n",
        "  print(\"No puedes entrar\")"
      ]
    },
    {
      "cell_type": "markdown",
      "metadata": {
        "id": "DfW164eGcUFS"
      },
      "source": [
        "---\n",
        "## 📌 3 — And, Or\n",
        "---\n",
        "\n",
        "Usaremos nuestros conocimientos de **lógica** para realizar operaciones útiles.  \n",
        "Puedes cambiar `and` por `or` y notar la diferencia en su resultado.  \n",
        "\n",
        "- `p and q` → será **verdadero** solo cuando *p* **y** *q* sean verdaderos.  \n",
        "   En cualquier otro caso será **falso**.  \n",
        "\n",
        "- `p or q` → será **verdadero** cuando *p* **o** *q* sean verdaderos.  \n",
        "   Solo será **falso** cuando ninguno lo sea.  \n"
      ]
    },
    {
      "cell_type": "code",
      "execution_count": null,
      "metadata": {
        "colab": {
          "base_uri": "https://localhost:8080/"
        },
        "id": "nzqXFqzBdZgd",
        "outputId": "c57f31a1-9b1f-4204-dc27-54221e360c60"
      },
      "outputs": [
        {
          "name": "stdout",
          "output_type": "stream",
          "text": [
            "enter password: password\n",
            "enter acount: correo@ugto.mx\n",
            "Bienvenido\n"
          ]
        }
      ],
      "source": [
        "# And\n",
        "password = 'password'\n",
        "acount = 'correo@ugto.mx'\n",
        "\n",
        "psw = input('enter password: ')\n",
        "aco = input('enter acount: ')\n",
        "\n",
        "if psw == password and aco == acount:\n",
        "  print('Bienvenido')\n",
        "else:\n",
        "  print('Acceso denegado')"
      ]
    },
    {
      "cell_type": "markdown",
      "metadata": {
        "id": "r4a64yIfr6Nf"
      },
      "source": [
        "#### Segundo Ejercicio: Transcribe en el bloque de texto y en bloque de código resuelve."
      ]
    },
    {
      "cell_type": "markdown",
      "metadata": {
        "id": "jl09cxt7s4Wm"
      },
      "source": [
        "$\\mu = \\frac{\\sum_{i=1}^{n} x_i}{n}$\n",
        "\n",
        "$s^2 = \\frac{\\sum_{i=1}^{n} (x_i - \\bar{x})^2}{n - 1}$\n"
      ]
    },
    {
      "cell_type": "code",
      "execution_count": null,
      "metadata": {
        "colab": {
          "base_uri": "https://localhost:8080/"
        },
        "id": "9pyFyUXZek66",
        "outputId": "d4eaf245-90c3-4a49-dd82-2a35bbd74bd2"
      },
      "outputs": [
        {
          "output_type": "stream",
          "name": "stdout",
          "text": [
            "Cálculo de la varianza muestral con tres valores\n",
            "Ingrese el primer valor: 40000000\n",
            "Ingrese el segundo valor: 65000000\n",
            "Ingrese el tercer valor: 600000000\n",
            "La media es: 235000000.0\n",
            "La varianza muestral es: 1.00075e+17\n"
          ]
        }
      ],
      "source": [
        "# Programa 2 (Ejercicio)\n",
        "\n",
        "# Cálculo de varianza muestral para tres datos\n",
        "\n",
        "print(\"Cálculo de la varianza muestral con tres valores\")\n",
        "\n",
        "# Ingreso de datos\n",
        "x1 = float(input(\"Ingrese el primer valor: \"))\n",
        "x2 = float(input(\"Ingrese el segundo valor: \"))\n",
        "x3 = float(input(\"Ingrese el tercer valor: \"))\n",
        "\n",
        "# Cálculo de la media\n",
        "media = (x1 + x2 + x3) / 3\n",
        "\n",
        "# Cálculo de la varianza muestral\n",
        "varianza = ((x1 - media)**2 + (x2 - media)**2 + (x3 - media)**2) / (3 - 1)\n",
        "\n",
        "# Mostrar resultados\n",
        "print(f\"La media es: {media}\")\n",
        "-print(f\"La varianza muestral es: {varianza}\")"
      ]
    },
    {
      "cell_type": "markdown",
      "metadata": {
        "id": "zEqm8T3Nz1lz"
      },
      "source": [
        "---\n",
        "## 📌 4 — Ciclo While\n",
        "---\n",
        "\n",
        "Nuestra primera función de ciclo será **`while`**, que en inglés significa *“mientras”*.  \n",
        "En otras palabras: *mientras algo no se cumpla, lo seguiré repitiendo*.  \n",
        "\n",
        "La estructura general es:  \n",
        "\n",
        "```python\n",
        "while condición:\n",
        "    proceso hasta cumplirse\n",
        "    resultado\n",
        "```\n",
        "Por ejemplo:"
      ]
    },
    {
      "cell_type": "code",
      "execution_count": null,
      "metadata": {
        "collapsed": true,
        "id": "R3kaDUx-vUC5",
        "colab": {
          "base_uri": "https://localhost:8080/"
        },
        "outputId": "32d09a02-9932-47a5-c582-67fca59e304c"
      },
      "outputs": [
        {
          "output_type": "stream",
          "name": "stdout",
          "text": [
            "51\n",
            "52\n",
            "53\n",
            "54\n",
            "55\n",
            "56\n",
            "57\n",
            "58\n",
            "59\n",
            "60\n",
            "61\n",
            "62\n",
            "63\n",
            "64\n",
            "65\n",
            "66\n",
            "67\n",
            "68\n",
            "69\n",
            "70\n",
            "71\n",
            "72\n",
            "73\n",
            "74\n",
            "75\n",
            "76\n",
            "77\n",
            "78\n",
            "79\n",
            "80\n",
            "81\n",
            "82\n",
            "83\n",
            "84\n",
            "85\n",
            "86\n",
            "87\n",
            "88\n",
            "89\n",
            "90\n",
            "91\n",
            "92\n",
            "93\n",
            "94\n",
            "95\n",
            "96\n",
            "97\n",
            "98\n",
            "99\n"
          ]
        }
      ],
      "source": [
        "# While\n",
        "contador = 50\n",
        "\n",
        "while contador < 99:\n",
        "  contador += 1\n",
        "  print(contador)"
      ]
    },
    {
      "cell_type": "markdown",
      "metadata": {
        "id": "DEn-bbfZzMM0"
      },
      "source": [
        "####  Ejercicios: Inciar sesión."
      ]
    },
    {
      "cell_type": "code",
      "execution_count": null,
      "metadata": {
        "colab": {
          "base_uri": "https://localhost:8080/"
        },
        "id": "bLjcE-Xxv1pj",
        "outputId": "773edd70-bed5-4e2a-f5f7-f94117e3bd9f"
      },
      "outputs": [
        {
          "output_type": "stream",
          "name": "stdout",
          "text": [
            "Ingrese la contraseña: password\n",
            "Ingrese la cuenta: correo@ugto.mx\n",
            "Bienvenido\n"
          ]
        }
      ],
      "source": [
        "# Condición secundaria + while\n",
        "password = 'password'\n",
        "acount = 'correo@ugto.mx'\n",
        "\n",
        "# Mientras no se acierte, seguir pidiendo datos\n",
        "while True:\n",
        "    psw = input('Ingrese la contraseña: ')\n",
        "    aco = input('Ingrese la cuenta: ')\n",
        "\n",
        "    if psw == password and aco == acount:\n",
        "        print('Bienvenido')\n",
        "        break  # Salir del bucle si es correcto\n",
        "    else:\n",
        "        print('Acceso denegado. Intente de nuevo.\\n')"
      ]
    },
    {
      "cell_type": "markdown",
      "source": [
        "### Ejercicios: Juego de Peleas\n",
        "\n",
        "Pyhton no es perfceto, por sí sólo no puede hacer muchas cosas, pero lo bueno de ser Open Source, es que cualquiera puede crear sus aportaciones, funciones programadas almacenadas en una \"librería\", en esta ocación usaremos una de esas que ejecuta de forma aleatoria resultados, siempre debemos llamarla antes de la lnea donde la necesitamos.\n",
        "\n",
        "from Librería import Función.\n",
        "\n",
        "Necesitaremos 4 variables, el del nombre y vida de los personajes. El juego se ejecutará siempre y cuando las vidas sean mayores a 0."
      ],
      "metadata": {
        "id": "5ZqwLfibzyTU"
      }
    },
    {
      "cell_type": "code",
      "execution_count": null,
      "metadata": {
        "id": "gHlbaI8EzQyX",
        "colab": {
          "base_uri": "https://localhost:8080/"
        },
        "outputId": "439558ce-d3a2-4226-84fe-ee480b49574e"
      },
      "outputs": [
        {
          "output_type": "stream",
          "name": "stdout",
          "text": [
            "Bienvenido al royal rumble \n",
            "Escoge tu personaje Sheinbaum\n",
            "Elige tu contrincante amlo\n",
            "\n",
            " Turno de amlo\n",
            "amlo te ataca con escupitajo \n",
            "La vida de Sheinbaum es: 60, la vida de amlo es: 75\n",
            "\n",
            " Tu turno Sheinbaum\n",
            "¿Qué quieres hacer? Soltar un [V]olado, [D]espeinarlo, o meterle un [Z]ape] (V/D/Z): z\n",
            "\n",
            " Sheinbaum le mete un zape \n",
            "\n",
            " Turno de amlo\n",
            "amlo te atina con piquete de ojos \n",
            "La vida de Sheinbaum es: 31, la vida de amlo es: 50\n",
            "\n",
            " Tu turno Sheinbaum\n",
            "¿Qué quieres hacer? Soltar un [V]olado, [D]espeinarlo, o meterle un [Z]ape] (V/D/Z): z\n",
            "\n",
            " Sheinbaum le mete un zape \n",
            "\n",
            " Turno de amlo\n",
            "amlo te atina con piquete de ojos \n",
            "La vida de Sheinbaum es: 2, la vida de amlo es: 25\n",
            "\n",
            " Tu turno Sheinbaum\n",
            "¿Qué quieres hacer? Soltar un [V]olado, [D]espeinarlo, o meterle un [Z]ape] (V/D/Z): z\n",
            "\n",
            " Sheinbaum le mete un zape \n",
            "\n",
            "=== Fin de la pelea ===\n",
            "Sheinbaum ganaste, hiciste trampa, modificaste el código \n"
          ]
        }
      ],
      "source": [
        "print(f\"Bienvenido al royal rumble \")\n",
        "\n",
        "j1_name = input(\"Escoge tu personaje \")\n",
        "cpu_name = input(\"Elige tu contrincante \")\n",
        "\n",
        "from random import randint\n",
        "j1_life = 75\n",
        "cpu_life = 75\n",
        "\n",
        "while cpu_life > 0 and j1_life > 0:\n",
        "    # Se desenvuelven los turnos de combate\n",
        "\n",
        "    # Turno de cpu\n",
        "    print(f\"\\n Turno de {cpu_name}\")\n",
        "    ataque_cpu = randint(1, 2)\n",
        "    # Ataques\n",
        "    if ataque_cpu == 1:\n",
        "        print(f\"{cpu_name} te ataca con escupitajo \")\n",
        "        j1_life -= 15\n",
        "    else:\n",
        "        print(f\"{cpu_name} te atina con piquete de ojos \")\n",
        "        j1_life -= 29\n",
        "\n",
        "    print(f\"La vida de {j1_name} es: {j1_life}, la vida de {cpu_name} es: {cpu_life}\")\n",
        "\n",
        "    # Check if player 1's life is 0 or less after CPU attack\n",
        "    if j1_life <= 0:\n",
        "        break\n",
        "\n",
        "    # Turno del jugador\n",
        "    print(f\"\\n Tu turno {j1_name}\")\n",
        "\n",
        "    j1_ataque = None\n",
        "    while j1_ataque != \"V\" and j1_ataque != \"D\" and j1_ataque != \"Z\":\n",
        "        j1_ataque = input(\"¿Qué quieres hacer? Soltar un [V]olado, [D]espeinarlo, o meterle un [Z]ape] (V/D/Z): \").upper()\n",
        "\n",
        "    if j1_ataque == \"V\":\n",
        "        print(f\"\\n {j1_name} se defiende con un volado \")\n",
        "        cpu_life -= 17\n",
        "    elif j1_ataque == \"D\":\n",
        "        print(f\"\\n {j1_name} apenas alcanza a despeinar\")\n",
        "        cpu_life -= 1\n",
        "    elif j1_ataque == \"Z\":\n",
        "        print(f\"\\n {j1_name} le mete un zape \")\n",
        "        cpu_life -= 25\n",
        "\n",
        "    # Check if CPU's life is 0 or less after player 1 attack\n",
        "    if cpu_life <= 0:\n",
        "        break\n",
        "\n",
        "\n",
        "if j1_life > cpu_life:\n",
        "    print(\"\\n=== Fin de la pelea ===\")\n",
        "    print(f\"{j1_name} ganaste, hiciste trampa, modificaste el código \")\n",
        "else:\n",
        "    print(\"\\n=== Fin de la pelea ===\")\n",
        "    print(f\"nmms que {cpu_name} te ganó \")"
      ]
    },
    {
      "cell_type": "markdown",
      "source": [
        "---\n",
        "## 🟡 Primer Evidencia\n",
        "---"
      ],
      "metadata": {
        "id": "rbVLqbyNziK2"
      }
    },
    {
      "cell_type": "markdown",
      "source": [
        "#### Primer Ejercicio\n",
        "\n",
        "**a)** Escribe las **4 operaciones fundamentales** en $\\LaTeX$ y en **Python** cuando $a = 1000$ y $b = 15$.  \n",
        "\n",
        "**b)** Idea un código que en el *output* salga:  \n",
        "`1414141414...` (100 veces).  \n"
      ],
      "metadata": {
        "id": "RIhmmdKT0j9n"
      }
    },
    {
      "cell_type": "markdown",
      "source": [
        "Suma -> $a+b$\n",
        "\n",
        "Resta -> $a-b$\n",
        "\n",
        "Prod. -> $a*b$\n",
        "\n",
        "Div. -> $a/b$"
      ],
      "metadata": {
        "id": "dINGnxSs1TOY"
      }
    },
    {
      "cell_type": "code",
      "source": [
        "a = 1000\n",
        "b = 15\n",
        "\n",
        "print(a+b)\n",
        "print(a-b)\n",
        "print(a*b)\n",
        "print(a/b)"
      ],
      "metadata": {
        "id": "hIwTcLul1h2U"
      },
      "execution_count": null,
      "outputs": []
    },
    {
      "cell_type": "code",
      "source": [
        "# b)\n",
        "print('14'*100)"
      ],
      "metadata": {
        "id": "QJ00PCuH1vKM"
      },
      "execution_count": null,
      "outputs": []
    },
    {
      "cell_type": "markdown",
      "source": [
        "#### Segundo Ejercicio\n",
        "\n",
        "**Instrucción:**  \n",
        "Crea un código que cuente del **50 al 99**.  \n"
      ],
      "metadata": {
        "id": "UFslyPDQ0t6K"
      }
    },
    {
      "cell_type": "code",
      "source": [
        "contador = 49\n",
        "\n",
        "while contador < 99:\n",
        "  contador += 1\n",
        "  print(contador)"
      ],
      "metadata": {
        "colab": {
          "base_uri": "https://localhost:8080/"
        },
        "collapsed": true,
        "id": "s1Wi3P8m1lwz",
        "outputId": "b305f442-4c75-4fc1-b078-731a75488042"
      },
      "execution_count": 4,
      "outputs": [
        {
          "output_type": "stream",
          "name": "stdout",
          "text": [
            "50\n",
            "51\n",
            "52\n",
            "53\n",
            "54\n",
            "55\n",
            "56\n",
            "57\n",
            "58\n",
            "59\n",
            "60\n",
            "61\n",
            "62\n",
            "63\n",
            "64\n",
            "65\n",
            "66\n",
            "67\n",
            "68\n",
            "69\n",
            "70\n",
            "71\n",
            "72\n",
            "73\n",
            "74\n",
            "75\n",
            "76\n",
            "77\n",
            "78\n",
            "79\n",
            "80\n",
            "81\n",
            "82\n",
            "83\n",
            "84\n",
            "85\n",
            "86\n",
            "87\n",
            "88\n",
            "89\n",
            "90\n",
            "91\n",
            "92\n",
            "93\n",
            "94\n",
            "95\n",
            "96\n",
            "97\n",
            "98\n",
            "99\n"
          ]
        }
      ]
    },
    {
      "cell_type": "markdown",
      "source": [
        "#### Tercer Ejercicio: Transcribe en el bloque de texto y en bloque de código resuelve.\n",
        "La anécdota cuenta que Carl Friedrich Gauss, siendo un niño, sumó con rapidez los enteros del $1$ al $n$ emparejando los extremos:\n",
        "$1+n, 2+(n-1), 3+(n-2), \\ldots$\n",
        "\n",
        "Cada par suma $n+1$. Si $n$ es par, hay $\\frac{n}{2}$ pares; si $n$ es impar, hay $\\frac{(n-1)}{2}$ pares y un término central. De esta observación se deduce la identidad:\n",
        "$\\sum_{k=1}^{n} k = \\frac{n(n+1)}{2}.$"
      ],
      "metadata": {
        "id": "AEndhINjEMSn"
      }
    },
    {
      "cell_type": "code",
      "source": [
        "Gauss = int(input(f\"Ingresa n \\n\"))\n",
        "\n",
        "suma = Gauss * (Gauss + 1) / 2\n",
        "\n",
        "print(f\"La suma de Gauss de 1 a {Gauss} es {suma}\")"
      ],
      "metadata": {
        "colab": {
          "base_uri": "https://localhost:8080/"
        },
        "id": "bI1H-7KADzFC",
        "outputId": "60d049d1-cd63-4234-df6f-7cec317ca604"
      },
      "execution_count": 17,
      "outputs": [
        {
          "output_type": "stream",
          "name": "stdout",
          "text": [
            "Ingresa n \n",
            "100\n",
            "La suma de Gauss de 1 a 100 es 5050.0\n"
          ]
        }
      ]
    },
    {
      "cell_type": "markdown",
      "source": [
        "## ⚠️ ¿Que pueden hacer con lo que saben hasta ahora?\n",
        "\n",
        "- Han aprendido a crear **presentaciones estéticas** para programación básica en *Python*.  \n",
        "\n",
        "- Con el conocimiento de **LaTeX**, pueden comenzar sus primeros textos sin problema  \n",
        "  *(se recomienda **Overleaf**, hay un template en Drive)*.  \n",
        "\n",
        "- Identifican, diferencian e implementan los **tipos de variables** indispensables para cualquier programador(@).  \n",
        "\n",
        "- Son capaces de aplicar la **lógica matemática** al programar funciones.  \n",
        "\n",
        "- Pueden **personalizar sus códigos** hasta el dedillo.  \n",
        "\n",
        "- Si escribieron los ejercicios, habrán desarrollado mejor **memoria muscular** que al inicio.  \n",
        "\n",
        "- Se demostraron, una vez más, que pueden **aprender y lograr lo que se propongan**.  \n"
      ],
      "metadata": {
        "id": "BQuJOnfT3hiR"
      }
    }
  ],
  "metadata": {
    "colab": {
      "collapsed_sections": [
        "HXTHHFBZOqFv"
      ],
      "provenance": [],
      "toc_visible": true,
      "authorship_tag": "ABX9TyNwzBXppe6doNgMcZ+e2y9l"
    },
    "kernelspec": {
      "display_name": "Python 3",
      "name": "python3"
    },
    "language_info": {
      "name": "python"
    }
  },
  "nbformat": 4,
  "nbformat_minor": 0
}